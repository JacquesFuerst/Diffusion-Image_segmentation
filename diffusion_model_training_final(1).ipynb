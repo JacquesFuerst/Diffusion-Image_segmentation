{
 "cells": [
  {
   "cell_type": "code",
   "execution_count": 13,
   "id": "a3b1aefa",
   "metadata": {
    "id": "351d2236"
   },
   "outputs": [],
   "source": [
    "import torch\n",
    "import torchvision\n",
    "import numpy as np\n",
    "import torch.nn.functional as F\n",
    "import matplotlib.pyplot as plt\n",
    "\n",
    "from torch import nn\n",
    "from tqdm import tqdm\n",
    "from torch.optim import Adam\n",
    "from torchvision import transforms\n",
    "from torch.utils.data import DataLoader"
   ]
  },
  {
   "cell_type": "code",
   "execution_count": 14,
   "id": "f189cd88",
   "metadata": {},
   "outputs": [],
   "source": [
    "from dataset_utils import MNISTDataset"
   ]
  },
  {
   "cell_type": "code",
   "execution_count": 15,
   "id": "b2c204b9",
   "metadata": {
    "id": "b2c204b9"
   },
   "outputs": [],
   "source": [
    "IMG_SIZE = 32\n",
    "BATCH_SIZE = 60\n",
    "\n",
    "MODEL = \"diffusion_model_MNIST_ConvNext\"\n",
    "DATASET = \"MNIST\"\n",
    "\n",
    "BLOCKS = \"convNext\" # 'convNext', 'res'\n",
    "IMPROVED_DDPM = False\n",
    "ADAPTIVE_GN = False \n",
    "USE_ATTENTION = True"
   ]
  },
  {
   "cell_type": "markdown",
   "id": "63510d30",
   "metadata": {},
   "source": [
    "### Checkpoint Saving Directory"
   ]
  },
  {
   "cell_type": "code",
   "execution_count": 16,
   "id": "ae21b661",
   "metadata": {},
   "outputs": [],
   "source": [
    "### Creating a directory to save model checkpoints\n",
    "import os\n",
    "\n",
    "models_dir = \"models_MNIST\"\n",
    "\n",
    "if not os.path.exists(models_dir):\n",
    "    os.makedirs(models_dir)"
   ]
  },
  {
   "cell_type": "markdown",
   "id": "ff7e2295",
   "metadata": {},
   "source": [
    "### Dataset Loading"
   ]
  },
  {
   "cell_type": "code",
   "execution_count": 17,
   "id": "7307a18a",
   "metadata": {
    "id": "7307a18a"
   },
   "outputs": [],
   "source": [
    "transform = torchvision.transforms.Compose([\n",
    "    torchvision.transforms.Resize((IMG_SIZE, IMG_SIZE)),\n",
    "    torchvision.transforms.ToTensor(),\n",
    "])\n",
    "\n",
    "\n",
    "if DATASET == \"MNIST\":\n",
    "    train_dataset = MNISTDataset(transform)\n",
    "else:\n",
    "    raise Exception(\"Currently works only with MNIST\")\n",
    "    \n",
    "\n",
    "train_dataloader = DataLoader(train_dataset, batch_size = BATCH_SIZE, shuffle = True)\n",
    "IMG_CHANNELS = train_dataset[0][0].shape[0]"
   ]
  },
  {
   "cell_type": "markdown",
   "id": "7f35a1f0-8f7e-41d9-943d-04dbe6e4c981",
   "metadata": {},
   "source": [
    "### VOC dataset"
   ]
  },
  {
   "cell_type": "code",
   "execution_count": 18,
   "id": "08f2ac91-862c-42f9-a407-1f2f135b1bc0",
   "metadata": {},
   "outputs": [],
   "source": [
    "# from torchvision.datasets import VOCSegmentation\n",
    "\n",
    "# class VOCDataset(VOCSegmentation):\n",
    "#     def __init__(self, root, year, image_set, transform):\n",
    "#         super().__init__(\n",
    "#             root = root,\n",
    "#             year = year,\n",
    "#             image_set = image_set,\n",
    "#             transform = transform\n",
    "#         )\n",
    "\n",
    "#     #second item is only an empty tensor since we take from VOC detection, so the second part is not needed\n",
    "#     def __getitem__(self, item):\n",
    "#         return super().__getitem__(item)[0], torch.Tensor([])#super().__getitem__(item)[1]\n",
    "\n",
    "# transform = torchvision.transforms.Compose([\n",
    "#     torchvision.transforms.Resize((IMG_SIZE, IMG_SIZE)),\n",
    "#     torchvision.transforms.ToTensor(),\n",
    "# ])\n",
    "\n",
    "\n",
    "# train_dataset = VOCDataset(root = './dataset/VOC_unpacked', year = '2012', image_set='train', transform = transform)\n",
    "# print(len(train_dataset))\n",
    "\n",
    "# train_dataloader = DataLoader(train_dataset, batch_size = BATCH_SIZE, shuffle = True)\n",
    "\n",
    "# IMG_CHANNELS = train_dataset[0][0].shape[0]"
   ]
  },
  {
   "cell_type": "markdown",
   "id": "66c6a9f8",
   "metadata": {},
   "source": [
    "### Defininig the UNET and the Diffusion Model"
   ]
  },
  {
   "cell_type": "code",
   "execution_count": 19,
   "id": "e5a09736",
   "metadata": {},
   "outputs": [],
   "source": [
    "from unet import DDPM, plot_samples"
   ]
  },
  {
   "cell_type": "code",
   "execution_count": 20,
   "id": "8af7665e",
   "metadata": {},
   "outputs": [],
   "source": [
    "epochs = 51\n",
    "device = 'cuda'"
   ]
  },
  {
   "cell_type": "code",
   "execution_count": 21,
   "id": "e9cb0e0a",
   "metadata": {},
   "outputs": [],
   "source": [
    "from unet import UNet\n",
    "unet = UNet(IMG_CHANNELS, IMG_SIZE, block = BLOCKS, agn = ADAPTIVE_GN, use_attention = USE_ATTENTION).to(device)"
   ]
  },
  {
   "cell_type": "code",
   "execution_count": 22,
   "id": "7e6cf19d",
   "metadata": {},
   "outputs": [],
   "source": [
    "# ### Loading\n",
    "# path_to_model = \"models_MNIST/diffusion_model_MNIST_group_norm_25.pth\"\n",
    "# unet.load_state_dict(torch.load(path_to_model))"
   ]
  },
  {
   "cell_type": "code",
   "execution_count": 23,
   "id": "052a6a93",
   "metadata": {
    "id": "052a6a93"
   },
   "outputs": [],
   "source": [
    "optimizer = Adam(unet.parameters(), lr = 2e-5)\n",
    "\n",
    "ddpm = DDPM(unet, T = 1000, cosine_schedule = IMPROVED_DDPM, device = device)"
   ]
  },
  {
   "cell_type": "code",
   "execution_count": null,
   "id": "e9d9e442",
   "metadata": {
    "id": "e9d9e442",
    "scrolled": true
   },
   "outputs": [
    {
     "name": "stderr",
     "output_type": "stream",
     "text": [
      "100%|██████████| 1000/1000 [10:07<00:00,  1.65it/s]\n"
     ]
    },
    {
     "name": "stdout",
     "output_type": "stream",
     "text": [
      "Epoch 0 | Loss: 0.06388678207062184 \n"
     ]
    },
    {
     "name": "stderr",
     "output_type": "stream",
     "text": [
      "100%|██████████| 1000/1000 [10:07<00:00,  1.65it/s]\n"
     ]
    },
    {
     "name": "stdout",
     "output_type": "stream",
     "text": [
      "Epoch 1 | Loss: 0.021603992021642624 \n"
     ]
    },
    {
     "name": "stderr",
     "output_type": "stream",
     "text": [
      "100%|██████████| 1000/1000 [10:07<00:00,  1.64it/s]\n"
     ]
    },
    {
     "name": "stdout",
     "output_type": "stream",
     "text": [
      "Epoch 2 | Loss: 0.01772729336284101 \n"
     ]
    },
    {
     "name": "stderr",
     "output_type": "stream",
     "text": [
      "100%|██████████| 1000/1000 [10:08<00:00,  1.64it/s]\n"
     ]
    },
    {
     "name": "stdout",
     "output_type": "stream",
     "text": [
      "Epoch 3 | Loss: 0.015706973739899696 \n"
     ]
    },
    {
     "name": "stderr",
     "output_type": "stream",
     "text": [
      "100%|██████████| 1000/1000 [10:07<00:00,  1.65it/s]\n"
     ]
    },
    {
     "name": "stdout",
     "output_type": "stream",
     "text": [
      "Epoch 4 | Loss: 0.014883072690106929 \n"
     ]
    },
    {
     "name": "stderr",
     "output_type": "stream",
     "text": [
      "100%|██████████| 1000/1000 [10:07<00:00,  1.65it/s]\n"
     ]
    },
    {
     "name": "stdout",
     "output_type": "stream",
     "text": [
      "Epoch 5 | Loss: 0.014114409375470132 \n"
     ]
    },
    {
     "name": "stderr",
     "output_type": "stream",
     "text": [
      "100%|██████████| 1000/1000 [10:08<00:00,  1.64it/s]\n"
     ]
    },
    {
     "name": "stdout",
     "output_type": "stream",
     "text": [
      "Epoch 6 | Loss: 0.01356077164132148 \n"
     ]
    },
    {
     "name": "stderr",
     "output_type": "stream",
     "text": [
      "100%|██████████| 1000/1000 [10:07<00:00,  1.65it/s]\n"
     ]
    },
    {
     "name": "stdout",
     "output_type": "stream",
     "text": [
      "Epoch 7 | Loss: 0.01316513745347038 \n"
     ]
    },
    {
     "name": "stderr",
     "output_type": "stream",
     "text": [
      "100%|██████████| 1000/1000 [10:07<00:00,  1.65it/s]\n"
     ]
    },
    {
     "name": "stdout",
     "output_type": "stream",
     "text": [
      "Epoch 8 | Loss: 0.012894816347397864 \n"
     ]
    },
    {
     "name": "stderr",
     "output_type": "stream",
     "text": [
      "100%|██████████| 1000/1000 [10:07<00:00,  1.65it/s]\n"
     ]
    },
    {
     "name": "stdout",
     "output_type": "stream",
     "text": [
      "Epoch 9 | Loss: 0.012460816022008657 \n"
     ]
    },
    {
     "name": "stderr",
     "output_type": "stream",
     "text": [
      "100%|██████████| 1000/1000 [10:07<00:00,  1.65it/s]\n"
     ]
    },
    {
     "name": "stdout",
     "output_type": "stream",
     "text": [
      "Sampling...\n"
     ]
    },
    {
     "name": "stderr",
     "output_type": "stream",
     "text": [
      "100%|██████████| 1000/1000 [00:23<00:00, 41.76it/s]\n"
     ]
    },
    {
     "data": {
      "image/png": "[encoded data removed]",
      "text/plain": [
       "<Figure size 640x480 with 6 Axes>"
      ]
     },
     "metadata": {},
     "output_type": "display_data"
    },
    {
     "name": "stdout",
     "output_type": "stream",
     "text": [
      "Epoch 10 | Loss: 0.012288703335914761 \n"
     ]
    },
    {
     "name": "stderr",
     "output_type": "stream",
     "text": [
      " 50%|████▉     | 496/1000 [05:01<05:06,  1.64it/s]"
     ]
    }
   ],
   "source": [
    "### Training Loop\n",
    "for epoch in range(epochs):\n",
    "\n",
    "    epoch_loss = 0\n",
    "    steps = 0\n",
    "    for batch in tqdm(train_dataloader):\n",
    "        optimizer.zero_grad()\n",
    "        \n",
    "        loss = ddpm.loss(batch[0].to(device))\n",
    "        loss.backward()\n",
    "        optimizer.step()\n",
    "\n",
    "        epoch_loss += loss.item()\n",
    "        steps += 1\n",
    "\n",
    "    if epoch % 10 == 0 and epoch != 0:\n",
    "        samples = ddpm.sample()\n",
    "        plot_samples(samples)\n",
    "\n",
    "    if epoch % 25 == 0 and epoch != 0:\n",
    "        torch.save(unet.state_dict(), os.path.join(models_dir, f\"{MODEL}_{epoch}.pth\"))\n",
    "\n",
    "    print(f\"Epoch {epoch} | Loss: {epoch_loss / (steps)} \")\n"
   ]
  },
  {
   "cell_type": "code",
   "execution_count": null,
   "id": "ea0aa32a-14e3-4ada-ab96-9cc13cadae82",
   "metadata": {},
   "outputs": [],
   "source": []
  }
 ],
 "metadata": {
  "colab": {
   "provenance": []
  },
  "kernelspec": {
   "display_name": "Python 3 (ipykernel)",
   "language": "python",
   "name": "python3"
  },
  "language_info": {
   "codemirror_mode": {
    "name": "ipython",
    "version": 3
   },
   "file_extension": ".py",
   "mimetype": "text/x-python",
   "name": "python",
   "nbconvert_exporter": "python",
   "pygments_lexer": "ipython3",
   "version": "3.10.13"
  }
 },
 "nbformat": 4,
 "nbformat_minor": 5
}
